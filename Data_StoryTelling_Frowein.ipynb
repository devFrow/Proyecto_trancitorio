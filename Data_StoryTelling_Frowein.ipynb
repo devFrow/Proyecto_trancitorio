{
 "cells": [
  {
   "cell_type": "markdown",
   "metadata": {},
   "source": [
    "## Contexto y problema comercial \n",
    "\n",
    "El proyecto de análisis de valores de viviendas en la ciudad de Ames, Iowa, se lleva a cabo en el contexto de un esfuerzo respaldado por el estado de Iowa para estimular el crecimiento y desarrollo económico de la ciudad. El estado de Iowa está interesado en aumentar la población de Ames con el propósito subyacente de mejorar la economía local. Para lograr este objetivo, es esencial proporcionar a posibles compradores y vendedores de viviendas una idea precisa de los valores de las propiedades en la ciudad. Esta información permitirá a los compradores tomar decisiones informadas y aumentará las posibilidades de venta de las viviendas en el mercado. Al comprender mejor el mercado de bienes raíces en Ames, se espera que se fomente la inversión y el crecimiento económico, beneficiando a la comunidad en su conjunto.\n",
    "\n"
   ]
  },
  {
   "cell_type": "markdown",
   "metadata": {},
   "source": [
    "## Toma Contacto con los datos y preparacion del data set \n",
    "\n",
    "En  pricipio nos encontramos con un dataset bien estructurado con 80 variables que usaremos para predecir el precio de las casas y con unos 2000 registros en total. El dset contaba con algunas irregularidades así que se realizaron los siguientes tratamientos: \n",
    "\n",
    "-Busqueda y tratamiento de nulos, en primera intancia encontramos bastante pero la mayoria hacian referencia un tipo de dato (el hecho de no tener la propiedad descrita en la variable)\n",
    "-Trasformacion de la valiriable objetivo para que tenga un mejor comportamiento con respecto al modelo elegido\n",
    "-Factorizacion de varibles categoricas tambien para mejor comportamiento con el modelo \n"
   ]
  },
  {
   "cell_type": "markdown",
   "metadata": {},
   "source": [
    "## Seleccion de las primeras variables \n",
    "\n",
    "Usamos una matris de correlacion para apuntar a las variables que tiene una correlacion mas fuerte con la variable objetivo y tener un ponto de partida. Con esta nos valemos para encontrar las 10 primeras variables que sin ningun tipo de feature engineering nos arrojan valores absolutos de mas de 0.5 "
   ]
  },
  {
   "cell_type": "markdown",
   "metadata": {},
   "source": [
    "## Modelo\n",
    "\n",
    "Usaremos un modelo de regresion ya que se trata de una variable númerica.La regresion lineal (Pirson) arroja los siguientes resultados: \n",
    "\n",
    "\n",
    "                            OLS Regression Results                            \n",
    "==============================================================================\n",
    "Dep. Variable:              SalePrice   R-squared:                       0.761\n",
    "Model:                            OLS   Adj. R-squared:                  0.760\n",
    "Method:                 Least Squares   F-statistic:                     926.5\n",
    "Date:                Mon, 04 Dec 2023   Prob (F-statistic):               0.00\n",
    "Time:                        21:45:06   Log-Likelihood:                -17499.\n",
    "No. Observations:                1460   AIC:                         3.501e+04\n",
    "Df Residuals:                    1454   BIC:                         3.504e+04\n",
    "Df Model:                           5                                         \n",
    "Covariance Type:            nonrobust                                         \n",
    "===============================================================================\n",
    "                  coef    std err          t      P>|t|      [0.025      0.975]\n",
    "-------------------------------------------------------------------------------\n",
    "Intercept   -9.907e+04   4638.450    -21.359      0.000   -1.08e+05      -9e+04\n",
    "OverallQual  2.364e+04   1072.532     22.037      0.000    2.15e+04    2.57e+04\n",
    "GrLivArea      45.3458      2.489     18.218      0.000      40.463      50.228\n",
    "GarageCars   1.454e+04   3022.681      4.812      0.000    8615.034    2.05e+04\n",
    "GarageArea     17.1334     10.468      1.637      0.102      -3.401      37.668\n",
    "TotalBsmtSF    31.5015      2.904     10.848      0.000      25.805      37.198\n",
    "==============================================================================\n",
    "Omnibus:                      438.146   Durbin-Watson:                   1.973\n",
    "Prob(Omnibus):                  0.000   Jarque-Bera (JB):            40648.199\n",
    "Skew:                          -0.338   Prob(JB):                         0.00\n",
    "Kurtosis:                      28.841   Cond. No.                     9.23e+03\n",
    "==============================================================================\n",
    "\n",
    "Notes:\n",
    "[1] Standard Errors assume that the covariance matrix of the errors is correctly specified.\n",
    "[2] The condition number is large, 9.23e+03. This might indicate that there are\n",
    "strong multicollinearity or other numerical problems."
   ]
  },
  {
   "cell_type": "markdown",
   "metadata": {},
   "source": [
    "## Métricas de Desempeño\n",
    "El modelo presenta un R-cuadrado de 0.761, lo que indica que el 76.1% de la variabilidad en los precios de las viviendas se explica mediante las variables seleccionadas. Este resultado inicial es prometedor y sugiere que el modelo tiene un buen ajuste a los datos. Sin embargo, sabemos  de la necesidad de mejorar aún más el modelo para garantizar una precisión robusta en las predicciones finales."
   ]
  }
 ],
 "metadata": {
  "kernelspec": {
   "display_name": "cursocoder",
   "language": "python",
   "name": "curso_coder"
  },
  "language_info": {
   "codemirror_mode": {
    "name": "ipython",
    "version": 3
   },
   "file_extension": ".py",
   "mimetype": "text/x-python",
   "name": "python",
   "nbconvert_exporter": "python",
   "pygments_lexer": "ipython3",
   "version": "3.10.12"
  }
 },
 "nbformat": 4,
 "nbformat_minor": 2
}
